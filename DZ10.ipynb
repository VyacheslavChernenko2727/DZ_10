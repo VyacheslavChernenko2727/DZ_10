{
  "nbformat": 4,
  "nbformat_minor": 0,
  "metadata": {
    "colab": {
      "provenance": [],
      "authorship_tag": "ABX9TyMCRDklxXR6SeuMaRL5lOKO",
      "include_colab_link": true
    },
    "kernelspec": {
      "name": "python3",
      "display_name": "Python 3"
    },
    "language_info": {
      "name": "python"
    }
  },
  "cells": [
    {
      "cell_type": "markdown",
      "metadata": {
        "id": "view-in-github",
        "colab_type": "text"
      },
      "source": [
        "<a href=\"https://colab.research.google.com/github/VyacheslavChernenko2727/DZ_10/blob/main/DZ10.ipynb\" target=\"_parent\"><img src=\"https://colab.research.google.com/assets/colab-badge.svg\" alt=\"Open In Colab\"/></a>"
      ]
    },
    {
      "cell_type": "code",
      "execution_count": null,
      "metadata": {
        "colab": {
          "base_uri": "https://localhost:8080/"
        },
        "id": "pAQoh3rpZGLI",
        "outputId": "e1f70009-626e-4123-e77d-261e094f13a2"
      },
      "outputs": [
        {
          "output_type": "stream",
          "name": "stdout",
          "text": [
            "   robot  human\n",
            "0      1      0\n",
            "1      1      0\n",
            "2      0      1\n",
            "3      0      1\n",
            "4      0      1\n"
          ]
        }
      ],
      "source": [
        "import pandas as pd\n",
        "\n",
        "lst = ['robot'] * 10\n",
        "lst += ['human'] * 10\n",
        "random.shuffle(lst)\n",
        "data = pd.DataFrame({'whoAmI':lst})\n",
        "data.head()\n",
        "categories = data['whoAmI'].unique()\n",
        "for category in categories:\n",
        "    data[category] = (data['whoAmI'] == category).astype(int)\n",
        "data = data.drop('whoAmI', axis=1)\n",
        "print(data.head())"
      ]
    }
  ]
}