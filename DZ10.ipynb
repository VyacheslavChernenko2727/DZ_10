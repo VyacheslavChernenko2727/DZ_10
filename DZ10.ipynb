{
  "nbformat": 4,
  "nbformat_minor": 0,
  "metadata": {
    "colab": {
      "provenance": [],
      "include_colab_link": true
    },
    "kernelspec": {
      "name": "python3",
      "display_name": "Python 3"
    },
    "language_info": {
      "name": "python"
    }
  },
  "cells": [
    {
      "cell_type": "markdown",
      "metadata": {
        "id": "view-in-github",
        "colab_type": "text"
      },
      "source": [
        "<a href=\"https://colab.research.google.com/github/VyacheslavChernenko2727/DZ_10/blob/main/DZ10.ipynb\" target=\"_parent\"><img src=\"https://colab.research.google.com/assets/colab-badge.svg\" alt=\"Open In Colab\"/></a>"
      ]
    },
    {
      "cell_type": "code",
      "execution_count": 12,
      "metadata": {
        "colab": {
          "base_uri": "https://localhost:8080/"
        },
        "id": "pAQoh3rpZGLI",
        "outputId": "0934626f-74cf-4bba-f87a-156e1d200031"
      },
      "outputs": [
        {
          "output_type": "stream",
          "name": "stdout",
          "text": [
            "   human  robot\n",
            "0      1      0\n",
            "1      1      0\n",
            "2      0      1\n",
            "3      1      0\n",
            "4      1      0\n"
          ]
        }
      ],
      "source": [
        "import pandas as pd\n",
        "import random\n",
        "\n",
        "lst = ['robot'] * 10\n",
        "lst += ['human'] * 10\n",
        "random.shuffle(lst)\n",
        "data = pd.DataFrame({'whoAmI':lst})\n",
        "categories = data['whoAmI'].unique()\n",
        "for category in categories:\n",
        "    data[category] = (data['whoAmI'] == category).astype(int)\n",
        "data = data.drop('whoAmI', axis=1)\n",
        "print(data.head())"
      ]
    }
  ]
}